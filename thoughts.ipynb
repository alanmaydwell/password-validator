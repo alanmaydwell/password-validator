{
 "cells": [
  {
   "cell_type": "markdown",
   "id": "c2cf1a8d-4af6-4ccc-8c55-4cfb3070f707",
   "metadata": {},
   "source": [
    "# Password validation exercise\n",
    "\n",
    "Approach to exercise:\n",
    "\n",
    "1. Created a validation function for each of the 5 specified criteria that takes the password as a parameter and returns a Boolian.\n",
    "2. Tried to avoid reinventing the wheel, e.g. using existing `isnumeric` method rather than creating something to determine if character is a number. \n",
    "3. Aimed to keep each validator concise. Also used comprehensions for some as I really like them as find them consise and readable. Could have used a differet approach using functions like `any` and `map` but I find these less readable and also higher cognative load of remebering what each of these does.\n",
    "4. Also created a `has_any_string_method_true` function that potentially could replace `has_capital_letter`, `has_lower_case_letter` and `has_number` but have not actually used it as I think it's less clear.\n",
    "5. Created `validate_string_with_validators` as a generic way of applying any of the validators to a string. Makes no mention of \"password\" as it potentially could be used for variety of purposes. Applying the validators takes advantage of the fact that functions in Python are first class objects and so can themselves be passed a parameters.\n",
    "6. Created `validate_password` specifically for password validation although it makes use of `validate_string_with_validators` to do the actual validation\n",
    "\n",
    "## Drawbacks of approach\n",
    "- Several validators rely on comprehensions that always examine each character in the password even if uncessary to continue because condition ready passed (e.g. we're checking for a numeber and the first character is 1) \n",
    "- Always applying each validation to the string but could stop at the first failure.\n",
    "\n",
    "Both these are due to using comprehensions which are great for keeping things concise and readable but at the expense of efficiency. Possibly could change things to break from the comphensions but there might not be a \"tidy\" way of doing this currently.\n",
    "\n",
    "## Potential Tweak (aside from above)\n",
    "Has occured to me that instead of this approach:   \n",
    "`return [c for c in mystring if c.isupper()] != []`    \n",
    "it would be clearer to have:    \n",
    "`return True in [c.isupper() for c in mystring]`    \n"
   ]
  },
  {
   "cell_type": "markdown",
   "id": "549ca923-5a52-45a3-90b2-5e7d01583038",
   "metadata": {},
   "source": [
    "## Aside - what counts as a capital, lowercase letter or number?"
   ]
  },
  {
   "cell_type": "code",
   "execution_count": 9,
   "id": "443e5724-4ef0-4914-9476-3db95c9b746a",
   "metadata": {},
   "outputs": [
    {
     "name": "stdout",
     "output_type": "stream",
     "text": [
      "0 True False False\n",
      "1 True False False\n",
      "2 True False False\n",
      "3 True False False\n",
      "i False True False\n",
      "v False True False\n",
      "x False True False\n",
      "I False False True\n",
      "V False False True\n",
      "X False False True\n",
      "一 True False False\n",
      "二 True False False\n",
      "三 True False False\n",
      "a False True False\n",
      "b False True False\n",
      "c False True False\n",
      "A False False True\n",
      "B False False True\n",
      "C False False True\n",
      "中 False False False\n",
      "Δ False False True\n",
      "δ False True False\n",
      "à False True False\n",
      "À False False True\n",
      "þ False True False\n",
      "Þ False False True\n",
      "æ False True False\n",
      "Æ False False True\n"
     ]
    }
   ],
   "source": [
    "for c in \"0123ivxIVX一二三abcABC中ΔδàÀþÞæÆ\":\n",
    "    print(c, c.isnumeric(), c.islower(), c.isupper())"
   ]
  },
  {
   "cell_type": "markdown",
   "id": "688596d2-5b39-4734-b8a8-2d6fec9e5b18",
   "metadata": {},
   "source": [
    "# Demo"
   ]
  },
  {
   "cell_type": "code",
   "execution_count": 1,
   "id": "85ccbc70-bf2f-4a9a-9482-d4a886d1dd37",
   "metadata": {},
   "outputs": [],
   "source": [
    "from password_validate import validate_password"
   ]
  },
  {
   "cell_type": "code",
   "execution_count": 20,
   "id": "1c72dc86-0aff-41a0-9226-a28732485472",
   "metadata": {},
   "outputs": [
    {
     "name": "stdout",
     "output_type": "stream",
     "text": [
      "A False\n",
      "B False\n",
      "C False\n",
      "Password False\n",
      "123456_aB True\n"
     ]
    }
   ],
   "source": [
    "bad_passwords = [\"A\", \"B\", \"C\", \"Password\"]\n",
    "good_passwords = [\"123456_aB\"]\n",
    "for password in bad_passwords + good_passwords:\n",
    "    result = validate_password(password)\n",
    "    print(password, result)"
   ]
  },
  {
   "cell_type": "code",
   "execution_count": 21,
   "id": "efd8b484-a78b-46c0-90a6-1a185e2a2994",
   "metadata": {},
   "outputs": [
    {
     "data": {
      "text/plain": [
       "True"
      ]
     },
     "execution_count": 21,
     "metadata": {},
     "output_type": "execute_result"
    }
   ],
   "source": [
    "validate_password(\"Z_y1     \")"
   ]
  },
  {
   "cell_type": "markdown",
   "id": "c178c62d-1664-413f-b994-ac6a2b34227f",
   "metadata": {},
   "source": [
    "## The unused `has_any_string_method_true` validator"
   ]
  },
  {
   "cell_type": "code",
   "execution_count": 7,
   "id": "033f9629-f488-4adf-8fe9-c394cfbb8246",
   "metadata": {},
   "outputs": [],
   "source": [
    "from support.validators import has_any_string_method_true"
   ]
  },
  {
   "cell_type": "code",
   "execution_count": 27,
   "id": "6a7511ba-6604-42fa-8d8c-132ff737074d",
   "metadata": {},
   "outputs": [
    {
     "data": {
      "text/plain": [
       "True"
      ]
     },
     "execution_count": 27,
     "metadata": {},
     "output_type": "execute_result"
    }
   ],
   "source": [
    "has_any_string_method_true(\" s\", \"isspace\")"
   ]
  },
  {
   "cell_type": "code",
   "execution_count": 13,
   "id": "10868644-95b4-44a4-bb29-0bed6a52f8eb",
   "metadata": {},
   "outputs": [
    {
     "data": {
      "text/plain": [
       "True"
      ]
     },
     "execution_count": 13,
     "metadata": {},
     "output_type": "execute_result"
    }
   ],
   "source": [
    "has_any_string_method_true(\"3\", \"isnumeric\")"
   ]
  },
  {
   "cell_type": "code",
   "execution_count": null,
   "id": "3907a064-f494-43aa-a885-11b7d2bec544",
   "metadata": {},
   "outputs": [],
   "source": [
    "\"12j\""
   ]
  },
  {
   "cell_type": "code",
   "execution_count": null,
   "id": "17f3f3ac-e165-4d17-9eea-97e236c1955f",
   "metadata": {},
   "outputs": [],
   "source": []
  },
  {
   "cell_type": "code",
   "execution_count": null,
   "id": "d29647a0-51bc-4a3b-8a83-69637b1f58b4",
   "metadata": {},
   "outputs": [],
   "source": []
  }
 ],
 "metadata": {
  "kernelspec": {
   "display_name": "Python 3 (ipykernel)",
   "language": "python",
   "name": "python3"
  },
  "language_info": {
   "codemirror_mode": {
    "name": "ipython",
    "version": 3
   },
   "file_extension": ".py",
   "mimetype": "text/x-python",
   "name": "python",
   "nbconvert_exporter": "python",
   "pygments_lexer": "ipython3",
   "version": "3.11.6"
  }
 },
 "nbformat": 4,
 "nbformat_minor": 5
}
